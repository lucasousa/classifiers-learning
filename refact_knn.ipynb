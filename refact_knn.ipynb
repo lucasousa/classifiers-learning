{
 "cells": [
  {
   "cell_type": "markdown",
   "metadata": {},
   "source": [
    "#### Importando as bibliotecas úteis, tais como classificadores etc..."
   ]
  },
  {
   "cell_type": "code",
   "execution_count": 68,
   "metadata": {},
   "outputs": [],
   "source": [
    "import pandas as pd\n",
    "import pprint\n",
    "import matplotlib.pyplot as plt\n",
    "import math\n",
    "import operator\n",
    "from sklearn.model_selection import train_test_split\n",
    "from sklearn.model_selection import KFold\n",
    "import numpy as np\n",
    "from sklearn import metrics\n",
    "from sklearn.metrics import confusion_matrix, accuracy_score, f1_score, recall_score, precision_score\n",
    "\n",
    "\n",
    "# ignore warnings\n",
    "import warnings\n",
    "warnings.filterwarnings('ignore')\n"
   ]
  },
  {
   "cell_type": "markdown",
   "metadata": {},
   "source": [
    "#### Lendo o Dataset e mostrando as primeiras linhas"
   ]
  },
  {
   "cell_type": "code",
   "execution_count": 69,
   "metadata": {},
   "outputs": [
    {
     "data": {
      "text/html": [
       "<div>\n",
       "<style scoped>\n",
       "    .dataframe tbody tr th:only-of-type {\n",
       "        vertical-align: middle;\n",
       "    }\n",
       "\n",
       "    .dataframe tbody tr th {\n",
       "        vertical-align: top;\n",
       "    }\n",
       "\n",
       "    .dataframe thead th {\n",
       "        text-align: right;\n",
       "    }\n",
       "</style>\n",
       "<table border=\"1\" class=\"dataframe\">\n",
       "  <thead>\n",
       "    <tr style=\"text-align: right;\">\n",
       "      <th></th>\n",
       "      <th>WBC</th>\n",
       "      <th>LYMp</th>\n",
       "      <th>NEUTp</th>\n",
       "      <th>LYMn</th>\n",
       "      <th>NEUTn</th>\n",
       "      <th>RBC</th>\n",
       "      <th>HGB</th>\n",
       "      <th>HCT</th>\n",
       "      <th>MCV</th>\n",
       "      <th>MCH</th>\n",
       "      <th>MCHC</th>\n",
       "      <th>PLT</th>\n",
       "      <th>PDW</th>\n",
       "      <th>PCT</th>\n",
       "      <th>Diagnosis</th>\n",
       "    </tr>\n",
       "  </thead>\n",
       "  <tbody>\n",
       "    <tr>\n",
       "      <th>0</th>\n",
       "      <td>10.0</td>\n",
       "      <td>43.2</td>\n",
       "      <td>50.1</td>\n",
       "      <td>4.3</td>\n",
       "      <td>5.0</td>\n",
       "      <td>2.77</td>\n",
       "      <td>7.3</td>\n",
       "      <td>24.2</td>\n",
       "      <td>87.7</td>\n",
       "      <td>26.3</td>\n",
       "      <td>30.1</td>\n",
       "      <td>189.0</td>\n",
       "      <td>12.5</td>\n",
       "      <td>0.17</td>\n",
       "      <td>Normocytic hypochromic anemia</td>\n",
       "    </tr>\n",
       "    <tr>\n",
       "      <th>1</th>\n",
       "      <td>10.0</td>\n",
       "      <td>42.4</td>\n",
       "      <td>52.3</td>\n",
       "      <td>4.2</td>\n",
       "      <td>5.3</td>\n",
       "      <td>2.84</td>\n",
       "      <td>7.3</td>\n",
       "      <td>25.0</td>\n",
       "      <td>88.2</td>\n",
       "      <td>25.7</td>\n",
       "      <td>20.2</td>\n",
       "      <td>180.0</td>\n",
       "      <td>12.5</td>\n",
       "      <td>0.16</td>\n",
       "      <td>Normocytic hypochromic anemia</td>\n",
       "    </tr>\n",
       "    <tr>\n",
       "      <th>2</th>\n",
       "      <td>7.2</td>\n",
       "      <td>30.7</td>\n",
       "      <td>60.7</td>\n",
       "      <td>2.2</td>\n",
       "      <td>4.4</td>\n",
       "      <td>3.97</td>\n",
       "      <td>9.0</td>\n",
       "      <td>30.5</td>\n",
       "      <td>77.0</td>\n",
       "      <td>22.6</td>\n",
       "      <td>29.5</td>\n",
       "      <td>148.0</td>\n",
       "      <td>14.3</td>\n",
       "      <td>0.14</td>\n",
       "      <td>Iron deficiency anemia</td>\n",
       "    </tr>\n",
       "    <tr>\n",
       "      <th>3</th>\n",
       "      <td>6.0</td>\n",
       "      <td>30.2</td>\n",
       "      <td>63.5</td>\n",
       "      <td>1.8</td>\n",
       "      <td>3.8</td>\n",
       "      <td>4.22</td>\n",
       "      <td>3.8</td>\n",
       "      <td>32.8</td>\n",
       "      <td>77.9</td>\n",
       "      <td>23.2</td>\n",
       "      <td>29.8</td>\n",
       "      <td>143.0</td>\n",
       "      <td>11.3</td>\n",
       "      <td>0.12</td>\n",
       "      <td>Iron deficiency anemia</td>\n",
       "    </tr>\n",
       "    <tr>\n",
       "      <th>4</th>\n",
       "      <td>4.2</td>\n",
       "      <td>39.1</td>\n",
       "      <td>53.7</td>\n",
       "      <td>1.6</td>\n",
       "      <td>2.3</td>\n",
       "      <td>3.93</td>\n",
       "      <td>0.4</td>\n",
       "      <td>316.0</td>\n",
       "      <td>80.6</td>\n",
       "      <td>23.9</td>\n",
       "      <td>29.7</td>\n",
       "      <td>236.0</td>\n",
       "      <td>12.8</td>\n",
       "      <td>0.22</td>\n",
       "      <td>Normocytic hypochromic anemia</td>\n",
       "    </tr>\n",
       "  </tbody>\n",
       "</table>\n",
       "</div>"
      ],
      "text/plain": [
       "    WBC  LYMp  NEUTp  LYMn  NEUTn   RBC  HGB    HCT   MCV   MCH  MCHC    PLT  \\\n",
       "0  10.0  43.2   50.1   4.3    5.0  2.77  7.3   24.2  87.7  26.3  30.1  189.0   \n",
       "1  10.0  42.4   52.3   4.2    5.3  2.84  7.3   25.0  88.2  25.7  20.2  180.0   \n",
       "2   7.2  30.7   60.7   2.2    4.4  3.97  9.0   30.5  77.0  22.6  29.5  148.0   \n",
       "3   6.0  30.2   63.5   1.8    3.8  4.22  3.8   32.8  77.9  23.2  29.8  143.0   \n",
       "4   4.2  39.1   53.7   1.6    2.3  3.93  0.4  316.0  80.6  23.9  29.7  236.0   \n",
       "\n",
       "    PDW   PCT                      Diagnosis  \n",
       "0  12.5  0.17  Normocytic hypochromic anemia  \n",
       "1  12.5  0.16  Normocytic hypochromic anemia  \n",
       "2  14.3  0.14         Iron deficiency anemia  \n",
       "3  11.3  0.12         Iron deficiency anemia  \n",
       "4  12.8  0.22  Normocytic hypochromic anemia  "
      ]
     },
     "execution_count": 69,
     "metadata": {},
     "output_type": "execute_result"
    }
   ],
   "source": [
    "dataset = pd.read_csv(\"diagnosed_cbc_data_v4.csv\")\n",
    "dataset.head()"
   ]
  },
  {
   "cell_type": "markdown",
   "metadata": {},
   "source": [
    "#### Características do Dataset\n",
    "- HGB: The amount of hemoglobin in the blood, crucial for oxygen transport.\n",
    "\n",
    "- PlT: The number of platelets in the blood, involved in blood clotting.\n",
    "\n",
    "- WBC: The count of white blood cells, vital for immune response.\n",
    "\n",
    "- RBC: The count of red blood cells, responsible for oxygen transport.\n",
    "\n",
    "- MCV (Mean Corpuscular Volume): Average volume of a single red blood cell.\n",
    "\n",
    "- MCH (Mean Corpuscular Hemoglobin): Average amount of hemoglobin per red blood cell.\n",
    "\n",
    "- MCHC (Mean Corpuscular Hemoglobin Concentration): Average concentration of hemoglobin in red blood cells.\n",
    "\n",
    "- PDW: a measurement of the variability in platelet size distribution in the blood\n",
    "\n",
    "- PCT: A procalcitonin test can help your health care provider diagnose if you have sepsis from a bacterial infection or if you have a high risk of developing sepsis\n",
    "\n",
    "- LYMp: Percentage of lymphocytes\n",
    "\n",
    "- NEUTp: Percentage of neutrophils\n",
    "\n",
    "- LYMn: Absolute lymphocyte count\n",
    "\n",
    "- NEUTn: Absolute neutrophil count\n",
    "\n",
    "- Diagnosis: Anemia type based on the CBC parameters"
   ]
  },
  {
   "cell_type": "markdown",
   "metadata": {},
   "source": [
    "#### Etapa de pré-processamento da Base de Dados"
   ]
  },
  {
   "cell_type": "markdown",
   "metadata": {},
   "source": [
    "Visualizando a quantidade de dados e quantidade de colunas"
   ]
  },
  {
   "cell_type": "code",
   "execution_count": 70,
   "metadata": {},
   "outputs": [
    {
     "data": {
      "text/plain": [
       "(1281, 15)"
      ]
     },
     "execution_count": 70,
     "metadata": {},
     "output_type": "execute_result"
    }
   ],
   "source": [
    "dataset.shape"
   ]
  },
  {
   "cell_type": "markdown",
   "metadata": {},
   "source": [
    "Verificando as classes e a quantidade de classes únicas"
   ]
  },
  {
   "cell_type": "code",
   "execution_count": 71,
   "metadata": {},
   "outputs": [
    {
     "name": "stdout",
     "output_type": "stream",
     "text": [
      "{'Healthy',\n",
      " 'Iron deficiency anemia',\n",
      " 'Leukemia',\n",
      " 'Leukemia with thrombocytopenia',\n",
      " 'Macrocytic anemia',\n",
      " 'Normocytic hypochromic anemia',\n",
      " 'Normocytic normochromic anemia',\n",
      " 'Other microcytic anemia',\n",
      " 'Thrombocytopenia'}\n",
      "Quantidade de classes únicas ->  9\n"
     ]
    }
   ],
   "source": [
    "unique_targets = set(dataset['Diagnosis'])\n",
    "pprint.pprint(unique_targets)\n",
    "print(\"Quantidade de classes únicas -> \", len(unique_targets))"
   ]
  },
  {
   "cell_type": "markdown",
   "metadata": {},
   "source": [
    "Verificando se há valores nulos"
   ]
  },
  {
   "cell_type": "code",
   "execution_count": 72,
   "metadata": {},
   "outputs": [
    {
     "data": {
      "text/plain": [
       "WBC          0\n",
       "LYMp         0\n",
       "NEUTp        0\n",
       "LYMn         0\n",
       "NEUTn        0\n",
       "RBC          0\n",
       "HGB          0\n",
       "HCT          0\n",
       "MCV          0\n",
       "MCH          0\n",
       "MCHC         0\n",
       "PLT          0\n",
       "PDW          0\n",
       "PCT          0\n",
       "Diagnosis    0\n",
       "dtype: int64"
      ]
     },
     "execution_count": 72,
     "metadata": {},
     "output_type": "execute_result"
    }
   ],
   "source": [
    "dataset.isnull().sum()"
   ]
  },
  {
   "cell_type": "markdown",
   "metadata": {},
   "source": [
    "Verificando se alguma coluna possui valores negativos"
   ]
  },
  {
   "cell_type": "code",
   "execution_count": 73,
   "metadata": {},
   "outputs": [
    {
     "name": "stdout",
     "output_type": "stream",
     "text": [
      "HGB\n",
      "MCV\n"
     ]
    }
   ],
   "source": [
    "for col in dataset.columns:\n",
    "    try:\n",
    "        if dataset[col].min() < 0:\n",
    "            print(col)\n",
    "    except:\n",
    "        pass"
   ]
  },
  {
   "cell_type": "markdown",
   "metadata": {},
   "source": [
    "Excluíndo linhas com valores negativos"
   ]
  },
  {
   "cell_type": "code",
   "execution_count": 74,
   "metadata": {},
   "outputs": [],
   "source": [
    "dataset= dataset.drop(dataset[dataset['HGB'] < 0].index[0])\n",
    "dataset = dataset.drop(dataset[dataset['MCV'] < 0].index[0])"
   ]
  },
  {
   "cell_type": "markdown",
   "metadata": {},
   "source": [
    "Checkando duplicações e realizando exclusões, caso haja"
   ]
  },
  {
   "cell_type": "code",
   "execution_count": 75,
   "metadata": {},
   "outputs": [
    {
     "name": "stdout",
     "output_type": "stream",
     "text": [
      "Duplicações antes da exclusão:  49\n",
      "Duplicações após exclusão:  0\n"
     ]
    }
   ],
   "source": [
    "print(\"Duplicações antes da exclusão: \", dataset.duplicated().sum())\n",
    "dataset.drop_duplicates(inplace=True)\n",
    "print(\"Duplicações após exclusão: \", dataset.duplicated().sum())"
   ]
  },
  {
   "cell_type": "code",
   "execution_count": 76,
   "metadata": {},
   "outputs": [
    {
     "data": {
      "text/plain": [
       "0       0\n",
       "1       0\n",
       "2       4\n",
       "3       4\n",
       "4       0\n",
       "       ..\n",
       "1276    5\n",
       "1277    5\n",
       "1278    5\n",
       "1279    5\n",
       "1280    5\n",
       "Name: Diagnosis, Length: 1230, dtype: int64"
      ]
     },
     "execution_count": 76,
     "metadata": {},
     "output_type": "execute_result"
    }
   ],
   "source": [
    "# replace class values with integers\n",
    "for i, target in enumerate(unique_targets):\n",
    "    dataset['Diagnosis'] = dataset['Diagnosis'].replace(target, i)\n",
    "dataset['Diagnosis']"
   ]
  },
  {
   "cell_type": "markdown",
   "metadata": {},
   "source": [
    "#### Separando as variáveis X e Y (target)"
   ]
  },
  {
   "cell_type": "code",
   "execution_count": 77,
   "metadata": {},
   "outputs": [],
   "source": [
    "y = dataset['Diagnosis']\n",
    "x = dataset.drop('Diagnosis', axis=1)\n",
    "# y = y.values"
   ]
  },
  {
   "cell_type": "code",
   "execution_count": 78,
   "metadata": {},
   "outputs": [],
   "source": [
    "def euclidean_distance(value_1, value_2, length):\n",
    "    distance = 0\n",
    "    for index in range(length):\n",
    "        distance += pow((value_1[index] - value_2[index]), 2)\n",
    "    return math.sqrt(distance)"
   ]
  },
  {
   "cell_type": "code",
   "execution_count": 79,
   "metadata": {},
   "outputs": [],
   "source": [
    "def KNeighbors(x_train, x_test, k):\n",
    "    distances = []\n",
    "    index = 0\n",
    "    for _, row in x_train.iterrows():\n",
    "        dist = euclidean_distance(x_test, row, len(x_test))\n",
    "        distances.append((index, dist))\n",
    "        index+=1\n",
    "    \n",
    "    distances.sort(key=operator.itemgetter(1))\n",
    "    neighbors = []\n",
    "    for x in range(k):\n",
    "        neighbors.append(distances[x][0])\n",
    "    return neighbors\n"
   ]
  },
  {
   "cell_type": "code",
   "execution_count": 80,
   "metadata": {},
   "outputs": [],
   "source": [
    "def predict(neighbors, y_train):\n",
    "    class_predicts = {}\n",
    "    for neighbor_index in neighbors:\n",
    "        response = y_train[neighbor_index]\n",
    "        if response in class_predicts:\n",
    "            class_predicts[response] += 1\n",
    "        else:\n",
    "            class_predicts[response] = 1\n",
    "\n",
    "    predictions = sorted(class_predicts.items(), key=operator.itemgetter(1), reverse=True)\n",
    "    return predictions[0][0]\n",
    "\n"
   ]
  },
  {
   "cell_type": "code",
   "execution_count": 81,
   "metadata": {},
   "outputs": [],
   "source": [
    "def confusion_matrix_and_accuracy(y_true, y_pred):\n",
    "    classes = sorted(set(y_true))\n",
    "    matrix = {cls: {cls_inner: 0 for cls_inner in classes} for cls in classes}\n",
    "    correct_predictions = 0\n",
    "\n",
    "    for true, pred in zip(y_true, y_pred):\n",
    "        matrix[true][pred] += 1\n",
    "        if true == pred:\n",
    "            correct_predictions += 1\n",
    "\n",
    "    accuracy = correct_predictions / len(y_true)\n",
    "    return matrix, accuracy"
   ]
  },
  {
   "cell_type": "code",
   "execution_count": 82,
   "metadata": {},
   "outputs": [
    {
     "name": "stdout",
     "output_type": "stream",
     "text": [
      "Acurácia 0.67 (+/- 0.06)\n",
      "F1 0.66 (+/- 0.06)\n",
      "Recall 0.67 (+/- 0.06)\n",
      "Precision 0.67 (+/- 0.07)\n"
     ]
    }
   ],
   "source": [
    "kf =KFold(n_splits=5, shuffle=True, random_state=42)\n",
    "overall_y_true = []\n",
    "overall_y_pred = []\n",
    "\n",
    "accuracy_list = []\n",
    "f1_list = []\n",
    "recall_list = []\n",
    "precision_list = []\n",
    "\n",
    "for train_index, test_index in kf.split(x, y):\n",
    "    x_train, x_test = x.iloc[train_index], x.iloc[test_index]\n",
    "    y_train, y_test = y.iloc[train_index], y.iloc[test_index]\n",
    "  \n",
    "    y_true = []\n",
    "    y_pred = []\n",
    "    for _, row in x_test.iterrows():\n",
    "        neighbors = KNeighbors(x_train, row, 5)\n",
    "        result = predict(neighbors, y_train.values)\n",
    "        y_pred.append(result)\n",
    "    \n",
    "    y_true.extend(y_test)\n",
    "    overall_y_true.extend(y_true)\n",
    "    overall_y_pred.extend(y_pred)\n",
    "\n",
    "    accuracy_list.append(accuracy_score(y_true, y_pred))\n",
    "    f1_list.append(f1_score(y_true, y_pred, average='weighted'))\n",
    "    recall_list.append(recall_score(y_true, y_pred, average='weighted'))\n",
    "    precision_list.append(precision_score(y_true, y_pred, average='weighted'))\n",
    "\n",
    "print(\"Acurácia %0.2f (+/- %0.2f)\" % (np.mean(accuracy_list), np.std(accuracy_list) * 2))\n",
    "print(\"F1 %0.2f (+/- %0.2f)\" % (np.mean(f1_list), np.std(f1_list) * 2))\n",
    "print(\"Recall %0.2f (+/- %0.2f)\" % (np.mean(recall_list), np.std(recall_list) * 2))\n",
    "print(\"Precision %0.2f (+/- %0.2f)\" % (np.mean(precision_list), np.std(precision_list) * 2))\n",
    "\n"
   ]
  },
  {
   "cell_type": "code",
   "execution_count": 83,
   "metadata": {},
   "outputs": [
    {
     "data": {
      "image/png": "[encoded data removed]",
      "text/plain": [
       "<Figure size 640x480 with 2 Axes>"
      ]
     },
     "metadata": {},
     "output_type": "display_data"
    }
   ],
   "source": [
    "confusion_matrix = metrics.confusion_matrix(overall_y_true, overall_y_pred)\n",
    "cm_display = metrics.ConfusionMatrixDisplay(confusion_matrix = confusion_matrix, display_labels = [i for i in range(len(unique_targets))])\n",
    "cm_display.plot()\n",
    "plt.show()"
   ]
  },
  {
   "cell_type": "markdown",
   "metadata": {},
   "source": [
    "#### Referências\n",
    "\n",
    "- https://www.kaggle.com/datasets/ehababoelnaga/anemia-types-classification/data\n",
    "\n",
    "- https://www.appsilon.com/post/machine-learning-evaluation-metrics-classification\n",
    "\n",
    "- https://towardsdatascience.com/building-a-k-nearest-neighbors-k-nn-model-with-scikit-learn-51209555453a\n",
    "\n",
    "- https://stackoverflow.com/questions/73893276/how-to-apply-the-result-of-k-fold-cross-validation-on-my-original-test-set\n",
    "\n",
    "- https://scikit-learn.org/stable/modules/generated/sklearn.model_selection.KFold\n",
    "\n",
    "- https://www.w3schools.com/python/python_ml_confusion_matrix.asp"
   ]
  }
 ],
 "metadata": {
  "kernelspec": {
   "display_name": "env",
   "language": "python",
   "name": "python3"
  },
  "language_info": {
   "codemirror_mode": {
    "name": "ipython",
    "version": 3
   },
   "file_extension": ".py",
   "mimetype": "text/x-python",
   "name": "python",
   "nbconvert_exporter": "python",
   "pygments_lexer": "ipython3",
   "version": "3.11.2"
  }
 },
 "nbformat": 4,
 "nbformat_minor": 2
}
